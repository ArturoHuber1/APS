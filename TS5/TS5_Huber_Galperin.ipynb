{
 "cells": [
  {
   "cell_type": "markdown",
   "id": "0c83e130-9c51-44af-a301-9c0a7b5165c8",
   "metadata": {},
   "source": [
    "# <center> Tarea semanal 5</center>\n",
    "### <center> Autores: Arturo Huber, Matias Galperin</center>"
   ]
  },
  {
   "cell_type": "markdown",
   "id": "66c30582-4dbf-4cb7-a80c-acdd2d949e71",
   "metadata": {},
   "source": [
    "## Introducción Teórica"
   ]
  },
  {
   "cell_type": "markdown",
   "id": "96aedaed-7780-4104-afd2-68319eb448de",
   "metadata": {},
   "source": [
    "## Análisis y Desarrollo\n"
   ]
  },
  {
   "cell_type": "markdown",
   "id": "822efacb-dff4-4a2f-b11d-2e670e4ec318",
   "metadata": {},
   "source": [
    "## Conclusiones"
   ]
  }
 ],
 "metadata": {
  "kernelspec": {
   "display_name": "Python 3 (ipykernel)",
   "language": "python",
   "name": "python3"
  },
  "language_info": {
   "codemirror_mode": {
    "name": "ipython",
    "version": 3
   },
   "file_extension": ".py",
   "mimetype": "text/x-python",
   "name": "python",
   "nbconvert_exporter": "python",
   "pygments_lexer": "ipython3",
   "version": "3.13.6"
  }
 },
 "nbformat": 4,
 "nbformat_minor": 5
}
