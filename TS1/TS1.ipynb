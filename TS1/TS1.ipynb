{
 "cells": [
  {
   "cell_type": "markdown",
   "id": "540e2be2-97e8-443e-b498-e1d37f375284",
   "metadata": {},
   "source": [
    "# Trabajo Semnal 1\n",
    "### Autor: Arturo Huber"
   ]
  },
  {
   "cell_type": "markdown",
   "id": "3b4c81d4-d59e-4372-a8bf-c77c9d6766fc",
   "metadata": {},
   "source": [
    "## Introduccion teorica\n",
    "En este trabajo semanal vamos a trabajar sobre la sintesis y su representacion grafica usando Pyhton.\n",
    "### Conceptos teoricos sobre señales\n",
    "Amplitud, potencia, modulacion, ortogonalidad, correlacion\n",
    "### Conceptos teoricos sobre el uso de graficos\n",
    "Tiempo de muestreo, frecuencia de muestreo "
   ]
  },
  {
   "cell_type": "markdown",
   "id": "3e1be510-a0a8-4a26-b369-10648803ac41",
   "metadata": {},
   "source": [
    "## Analisis y Desarrollo\n"
   ]
  },
  {
   "cell_type": "markdown",
   "id": "536d6929-d285-4946-8be4-5bb802483650",
   "metadata": {},
   "source": [
    "## Conclusiones"
   ]
  },
  {
   "cell_type": "markdown",
   "id": "661d826b-63b2-4099-acdd-f3f74cec8101",
   "metadata": {},
   "source": [
    "## Autoevalucion de Aprendizaje"
   ]
  }
 ],
 "metadata": {
  "kernelspec": {
   "display_name": "Python 3 (ipykernel)",
   "language": "python",
   "name": "python3"
  },
  "language_info": {
   "codemirror_mode": {
    "name": "ipython",
    "version": 3
   },
   "file_extension": ".py",
   "mimetype": "text/x-python",
   "name": "python",
   "nbconvert_exporter": "python",
   "pygments_lexer": "ipython3",
   "version": "3.10.6"
  }
 },
 "nbformat": 4,
 "nbformat_minor": 5
}
