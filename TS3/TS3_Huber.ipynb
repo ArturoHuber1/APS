{
 "cells": [
  {
   "cell_type": "markdown",
   "id": "fb6783ed-8be2-4f56-9630-e6939dc1c721",
   "metadata": {},
   "source": [
    "# <center> Tarea Semanal 3 <center>\n",
    "## <center> Autor: Arturo Huber <center>"
   ]
  },
  {
   "cell_type": "markdown",
   "id": "153033a6-daeb-4a63-a823-29d2a75b1e65",
   "metadata": {},
   "source": [
    "## Introducción Teórica\n",
    "\n",
    "### Densidad espectral de potencia\n",
    "### Desparramo espectral\n",
    "### Identidad de Parseval"
   ]
  },
  {
   "cell_type": "markdown",
   "id": "27e373ba-7674-4aac-8ae5-3975c7ff5d45",
   "metadata": {},
   "source": [
    "## Análisis y Desarrollo"
   ]
  },
  {
   "cell_type": "markdown",
   "id": "a2e9a5af-0667-46f2-a8c0-71df42113f45",
   "metadata": {},
   "source": [
    "## Conlcusiones"
   ]
  },
  {
   "cell_type": "markdown",
   "id": "30b6cb54-a655-48b6-b2bc-cd6889005dcf",
   "metadata": {},
   "source": [
    "## Autoevalución de Aprendizaje"
   ]
  },
  {
   "cell_type": "code",
   "execution_count": null,
   "id": "3529873c-f621-4618-9eb4-2b6ed241534e",
   "metadata": {},
   "outputs": [],
   "source": []
  }
 ],
 "metadata": {
  "kernelspec": {
   "display_name": "Python 3 (ipykernel)",
   "language": "python",
   "name": "python3"
  },
  "language_info": {
   "codemirror_mode": {
    "name": "ipython",
    "version": 3
   },
   "file_extension": ".py",
   "mimetype": "text/x-python",
   "name": "python",
   "nbconvert_exporter": "python",
   "pygments_lexer": "ipython3",
   "version": "3.13.6"
  }
 },
 "nbformat": 4,
 "nbformat_minor": 5
}
