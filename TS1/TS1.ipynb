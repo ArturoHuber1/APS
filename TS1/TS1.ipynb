{
 "cells": [
  {
   "cell_type": "markdown",
   "id": "540e2be2-97e8-443e-b498-e1d37f375284",
   "metadata": {},
   "source": [
    "# Trabajo Semanal 1\n",
    "### Autor: Arturo Huber"
   ]
  },
  {
   "cell_type": "markdown",
   "id": "3b4c81d4-d59e-4372-a8bf-c77c9d6766fc",
   "metadata": {},
   "source": [
    "## Introduccion teorica\n",
    "En este trabajo semanal se abordará la síntesis de señales y su representación gráfica utilizando el lenguaje de programación Python. El objetivo principal es comprender cómo se construyen, representan y analizan señales discretas mediante conceptos fundamentales de teoría de señales y su visualización gráfica.\n",
    "\n",
    "A continuación se presentan algunos conceptos teóricos clave que servirán como base para el desarrollo del trabajo.\n",
    "\n",
    "*Amplitud*\n",
    "\n",
    "La amplitud es el valor máximo que alcanza una señal respecto de su valor medio o de referencia. En señales senoidales, por ejemplo, representa el \"pico\" de la onda. La amplitud está directamente relacionada con la potencia que transporta la señal.\n",
    "\n",
    "*Potencia y energia*\n",
    "\n",
    "La energia de una señal se define como la integral del cuadrado de la señal, lo que seria el área bajo la curva, tomando todos sus valores como positivos.\n",
    "\n",
    "Energía de una señal continua:\n",
    "\n",
    "$$\n",
    "E = \\int_{-\\infty}^{\\infty} |x(t)|^2 \\, dt\n",
    "$$\n",
    "\n",
    "Al trabajar con señales periodicas, o con señales que al infinito no divergen a cero, hablar de energia pierde sentido ya que la energia seria infinita. Para estos casos, tiene mas sentido hablar de potencia, que seria energia por unidad de tiempo.\n",
    "\n",
    "Potencia de una señal periódica continua con período $T$ se expresa como:\n",
    "\n",
    "$$\n",
    "P = \\frac{1}{T} \\int_{0}^{T} |x(t)|^2 \\, dt\n",
    "$$\n",
    "\n",
    "Al estar trabajando con Python, se trabaja con señales discretas, por lo que se cambian las integrales por sumas finitas.\n",
    "\n",
    "Energía de una señal discreta:\n",
    "\n",
    "$$\n",
    "E = \\sum_{n=0}^{N} |x[n]|^2\n",
    "$$\n",
    "\n",
    "Potencia de una señal discreta periódica:\n",
    "\n",
    "$$\n",
    "P = \\frac{1}{N} \\sum_{n=0}^{N-1} |x[n]|^2\n",
    "$$\n",
    "*Modulacion*\n",
    "\n",
    "La modulación es el proceso mediante el cual se modifica una señal portadora (de mayor frecuencia) para transmitir información de una señal moduladora (de menor frecuencia). En este trabajo se trabajará la modulación en amplitud (AM), que consiste en variar la amplitud de la portadora en función de la señal moduladora. Esto se logra multiplicando las funciones.\n",
    "\n",
    "Señal modulada en amplitud:\n",
    "\n",
    "$$\n",
    "s[n] = \\big[ 1 + k_a \\cdot m[n] \\big] \\cdot c[n]\n",
    "$$\n",
    "\n",
    "Donde:<br>\n",
    "$s[n]$ es la señal modulada<br>\n",
    "$m[n]$ es la señal moduladora<br>\n",
    "$c[n]$ es la señal portadora<br>\n",
    "$k$ es el factor de variacion de la amplitud, en nuestro caso será 1\n",
    "\n",
    "*Ortogonalidad* \n",
    "\n",
    "Se dice que dos funciones son ortogonales si su producto interno (o escalar) es cero. Este concepto es análogo a la ortogonalidad de dos vectores: cuando dos vectores son perpendiculares, su producto escalar es cero, lo que indica que no “comparten” información. De manera similar, en el espacio de funciones, si dos funciones son ortogonales, ninguna se puede expresar como combinación lineal de la otra y juntas pueden formar una base que “complete” un espacio de funciones. En otras palabras, cada función aporta información independiente de la otra.<br>\n",
    "Dos funciones discretas $x[n]$ e $y[n]$ son ortogonales si:\n",
    "\n",
    "$$\n",
    "\\sum_{n=0}^{N} x[n] \\cdot y[n] = 0\n",
    "$$\n",
    "\n",
    "*Correlación*\n",
    "\n",
    "La correlación entre dos señales nos indica que tan similares estas son.<br>\n",
    "La correlación cruzada entre dos señales discretas $x[n]$ e $y[n]$ se define como:\n",
    "\n",
    "$$\n",
    "R_{xy}[k] = \\sum_{n=-\\infty}^{\\infty} x[n] \\cdot y[n-k]\n",
    "$$\n",
    "Donde $k$ es un desplazamiento temporal.<br>\n",
    "Si los valores que toma la correlación son valores positivos altos, significa que estas señales tienden a aumentar y disminuir juntas. Si los valores que toma la correlacion son cercanos a cero, estas dos señales no presentan similitudes en su comportamients. Mientras que, si los valores que toma son altos y negativos significa que estas señales muestran un comportamientos inversamente proporcional.\n",
    "### Conceptos teoricos sobre la representación gráfica de señales\n",
    "En el análisis y procesamiento digital de señales, el muestreo es el procedimiento mediante el cual una señal continua en el tiempo se convierte en una señal discreta. Para describir este proceso aparecen dos parámetros fundamentales: el tiempo de muestreo y la frecuencia de muestreo.\n",
    "\n",
    "El tiempo de muestreo ($T_s$) es el intervalo temporal que transcurre entre la toma de dos muestras consecutivas de la señal. Un valor de $T_s$ pequeño implica que la señal se registra con mayor resolución temporal, mientras que un valor grande significa que la señal se describe con menos puntos en el tiempo.\n",
    "\n",
    "La frecuencia de muestreo ($f_s$) es el número de muestras que se obtienen por segundo y está directamente relacionada con el tiempo de muestreo, ya que:\n",
    "\n",
    "$$\n",
    "f_s = 1/T_s\n",
    "$$\n",
    "\n",
    "Es decir, cuanto menor sea el tiempo de muestreo, mayor será la frecuencia de muestreo y más detallada será la representación digital de la señal.\n",
    "\n",
    "La elección de $f_s$ no puede hacerse de manera arbitraria. El teorema de Nyquist-Shannon establece que, para poder reconstruir una señal continua a partir de sus muestras sin pérdida de información, la frecuencia de muestreo debe ser al menos el doble de la frecuencia máxima presente en la señal original ($f_{\\text{max}}$). Es decir:\n",
    "\n",
    "$$\n",
    "f_s \\geq 2 f_{\\text{max}}\n",
    "$$\n",
    "\n",
    "En conclusión, el tiempo y la frecuencia de muestreo son parámetros esenciales para garantizar una representación digital adecuada de una señal continua, y su correcta elección depende directamente del teorema de Nyquist, que fija el límite mínimo necesario para evitar pérdidas de información."
   ]
  },
  {
   "cell_type": "markdown",
   "id": "3e1be510-a0a8-4a26-b369-10648803ac41",
   "metadata": {},
   "source": [
    "## Analisis y Desarrollo\n"
   ]
  },
  {
   "cell_type": "markdown",
   "id": "536d6929-d285-4946-8be4-5bb802483650",
   "metadata": {},
   "source": [
    "## Conclusiones"
   ]
  },
  {
   "cell_type": "markdown",
   "id": "661d826b-63b2-4099-acdd-f3f74cec8101",
   "metadata": {},
   "source": [
    "## Autoevalucion de Aprendizaje"
   ]
  }
 ],
 "metadata": {
  "kernelspec": {
   "display_name": "Python 3 (ipykernel)",
   "language": "python",
   "name": "python3"
  },
  "language_info": {
   "codemirror_mode": {
    "name": "ipython",
    "version": 3
   },
   "file_extension": ".py",
   "mimetype": "text/x-python",
   "name": "python",
   "nbconvert_exporter": "python",
   "pygments_lexer": "ipython3",
   "version": "3.10.6"
  }
 },
 "nbformat": 4,
 "nbformat_minor": 5
}
