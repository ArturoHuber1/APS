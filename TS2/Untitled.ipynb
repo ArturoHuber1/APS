{
 "cells": [
  {
   "cell_type": "markdown",
   "id": "70612216-8fa1-47b8-a128-f362720e6677",
   "metadata": {},
   "source": [
    "# <center>Tarea Semanal 2</center>\n",
    "### <center> Autor: Arturo Huber </center>"
   ]
  },
  {
   "cell_type": "markdown",
   "id": "dcb89148-80fb-4371-952d-718e39386d6f",
   "metadata": {},
   "source": [
    "## Introducción teorica\n",
    "En este trabajo abordaremos el tema de la representación digital, y su simulación mediante python, de los Sistemas Lineales e Invariantes en el Tiempo - Sistemas LTI. Para ello, en este trabajo, vamos a utilizar los siguientes fundamentos teoricos.\n",
    "\n",
    "**Sistemas LTI**\n",
    "\n",
    "Un sistema lineal e invariante en el tiempo (LTI) es aquel que cumple dos propiedades fundamentales:<br>\n",
    "*Linealidad*:  La salida ante una combinación lineal de entradas es igual a la misma combinación lineal de las salidas individuales.\n",
    "\n",
    "$$\n",
    "x[n] = a·x1[n] + b·x2[n]  ->  y[n] = a·y1[n] + b·y2[n]\n",
    "$$\n",
    "\n",
    "*Invarianza en el tiempo*: Si la entrada se desplaza en el tiempo, la salida se desplaza en la misma cantidad sin cambiar su forma.\n",
    "\n",
    "$$\n",
    "x[n−n0]⇒y[n−n0]\n",
    "$$\n",
    "\n",
    "Los sistemas LTI son ampliamente utilizados porque se pueden caracterizar completamente mediante su *respuesta al impulso*.\n",
    "\n",
    "**Ecuaciones en diferencias**\n",
    "\n",
    "En el caso discreto, los sistemas LTI  se pueden describir mediante ecuaciones en diferencias lineales con coeficientes constantes.\n",
    "\n",
    "\n",
    "Los términos de la derecha (dependientes de la entrada) representan la parte forzada del sistema.\n",
    "Los términos de la izquierda (dependientes de salidas pasadas) representan la parte natural o transitoria.\n",
    "Existen dos clases principales de sistemas:\n",
    "FIR (Finite Impulse Response): no dependen de salidas pasadas, solo de entradas presentes y pasadas.\n",
    "IIR (Infinite Impulse Response): incluyen salidas pasadas (realimentación) → la respuesta al impulso es infinita.\n",
    "\n",
    "**Respuesta al impulso**\n",
    "\n",
    "La respuesta al impulso $h[n]$ se obtiene aplicando como entrada un impulso unitario:\n",
    "$$\n",
    "x[n]=δ[n]⇒y[n]=h[n]\n",
    "$$\n",
    "\n",
    "\n",
    "\n",
    "Esto significa que:\n",
    "\n",
    "La respuesta al impulso caracteriza completamente el sistema.\n",
    "\n",
    "Conociendo ℎ[n]h[n], se puede obtener la salida para cualquier señal de entrada mediante la operación de convolución.\n",
    "Para un sistema LTI, la salida se calcula como la convolución entre la entrada y $h[n]$:\n",
    "**Realimentación**\n"
   ]
  },
  {
   "cell_type": "code",
   "execution_count": null,
   "id": "ff203ae8-2abd-4324-bd8f-a01dd3adab66",
   "metadata": {},
   "outputs": [],
   "source": []
  }
 ],
 "metadata": {
  "kernelspec": {
   "display_name": "Python 3 (ipykernel)",
   "language": "python",
   "name": "python3"
  },
  "language_info": {
   "codemirror_mode": {
    "name": "ipython",
    "version": 3
   },
   "file_extension": ".py",
   "mimetype": "text/x-python",
   "name": "python",
   "nbconvert_exporter": "python",
   "pygments_lexer": "ipython3",
   "version": "3.10.6"
  }
 },
 "nbformat": 4,
 "nbformat_minor": 5
}
